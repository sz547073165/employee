{
 "cells": [
  {
   "cell_type": "code",
   "execution_count": 182,
   "metadata": {
    "collapsed": true
   },
   "outputs": [],
   "source": [
    "import numpy as np\n",
    "import pandas as pd"
   ]
  },
  {
   "cell_type": "code",
   "execution_count": 183,
   "metadata": {},
   "outputs": [],
   "source": [
    "df = pd.read_csv('pfm_train.csv')\n",
    "X = df.drop('Attrition', axis=1)"
   ]
  },
  {
   "cell_type": "code",
   "execution_count": 184,
   "metadata": {},
   "outputs": [],
   "source": [
    "#可排序的类标转码\n",
    "from sklearn.preprocessing import LabelEncoder\n",
    "class_le = LabelEncoder()\n",
    "X['Gender']=class_le.fit_transform(X[['Gender']].values.ravel())\n",
    "X['MaritalStatus']=class_le.fit_transform(X[['MaritalStatus']].values.ravel())\n",
    "X['Over18']=class_le.fit_transform(X[['Over18']].values.ravel())\n",
    "X['OverTime']=class_le.fit_transform(X[['OverTime']].values.ravel())"
   ]
  },
  {
   "cell_type": "code",
   "execution_count": 185,
   "metadata": {},
   "outputs": [],
   "source": [
    "#不可排序的独热编码\n",
    "X = pd.merge(X,pd.get_dummies(X[['BusinessTravel','Department','EducationField','JobRole']]),how='outer',left_index=True,right_index=True)\n",
    "X = X.drop(['BusinessTravel','Department','EducationField','JobRole'],axis=1)"
   ]
  }
 ],
 "metadata": {
  "kernelspec": {
   "display_name": "Python 3",
   "language": "python",
   "name": "python3"
  },
  "language_info": {
   "codemirror_mode": {
    "name": "ipython",
    "version": 3
   },
   "file_extension": ".py",
   "mimetype": "text/x-python",
   "name": "python",
   "nbconvert_exporter": "python",
   "pygments_lexer": "ipython3",
   "version": "3.6.1"
  }
 },
 "nbformat": 4,
 "nbformat_minor": 2
}
